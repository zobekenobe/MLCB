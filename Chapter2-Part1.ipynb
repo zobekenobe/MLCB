{
 "cells": [
  {
   "cell_type": "code",
   "execution_count": 1,
   "id": "52f0840a",
   "metadata": {},
   "outputs": [],
   "source": [
    "import tensorflow as tf\n"
   ]
  },
  {
   "cell_type": "code",
   "execution_count": 3,
   "id": "dec7c419",
   "metadata": {},
   "outputs": [
    {
     "data": {
      "text/plain": [
       "True"
      ]
     },
     "execution_count": 3,
     "metadata": {},
     "output_type": "execute_result"
    }
   ],
   "source": [
    "tf.executing_eagerly()"
   ]
  },
  {
   "cell_type": "code",
   "execution_count": 7,
   "id": "e64f45a5",
   "metadata": {},
   "outputs": [
    {
     "name": "stdout",
     "output_type": "stream",
     "text": [
      "The result is [[4.]]\n"
     ]
    }
   ],
   "source": [
    "x = [[2.]]\n",
    "a = tf.matmul(x,x)\n",
    "print(\"The result is {}\".format(a))\n"
   ]
  },
  {
   "cell_type": "code",
   "execution_count": 11,
   "id": "39ba432d",
   "metadata": {},
   "outputs": [],
   "source": [
    "a = tf.constant([[[1,2,3],[4,5,6],[7,8,9]]], dtype = 'float32')"
   ]
  },
  {
   "cell_type": "code",
   "execution_count": 18,
   "id": "04c6e3f9",
   "metadata": {},
   "outputs": [],
   "source": [
    "b = tf.ones([3,3], dtype = 'float32')\n",
    "b = tf.linalg.diag([1., 1., 1.])"
   ]
  },
  {
   "cell_type": "code",
   "execution_count": 19,
   "id": "8d611425",
   "metadata": {},
   "outputs": [],
   "source": [
    "c = tf.matmul(a,b)"
   ]
  },
  {
   "cell_type": "code",
   "execution_count": 20,
   "id": "dd9947ba",
   "metadata": {},
   "outputs": [
    {
     "name": "stdout",
     "output_type": "stream",
     "text": [
      "tf.Tensor(\n",
      "[[[1. 2. 3.]\n",
      "  [4. 5. 6.]\n",
      "  [7. 8. 9.]]], shape=(1, 3, 3), dtype=float32)\n"
     ]
    }
   ],
   "source": [
    "print(c)"
   ]
  },
  {
   "cell_type": "code",
   "execution_count": 28,
   "id": "3fc4583c",
   "metadata": {},
   "outputs": [
    {
     "name": "stdout",
     "output_type": "stream",
     "text": [
      "tf.Tensor(\n",
      "[[7 4 9]\n",
      " [2 6 9]\n",
      " [8 1 9]], shape=(3, 3), dtype=int32)\n"
     ]
    }
   ],
   "source": [
    "d1 = tf.random.uniform([3,3], minval = 0, maxval = 10, dtype = tf.int32)\n",
    "print(d1)"
   ]
  },
  {
   "cell_type": "code",
   "execution_count": 33,
   "id": "10132452",
   "metadata": {},
   "outputs": [
    {
     "name": "stdout",
     "output_type": "stream",
     "text": [
      "tf.Tensor(\n",
      "[[-0.81196487  0.14279208  0.22044052]\n",
      " [-0.42362154 -1.1251493  -1.182508  ]\n",
      " [ 1.4829593   1.1007762   0.96233577]], shape=(3, 3), dtype=float32)\n"
     ]
    }
   ],
   "source": [
    "d2 = tf.random.truncated_normal([3,3], mean = 0., stddev = 1.)\n",
    "print(d2)"
   ]
  },
  {
   "cell_type": "code",
   "execution_count": 39,
   "id": "afc1923e",
   "metadata": {},
   "outputs": [],
   "source": [
    "e = tf.range(1, 10, 2)\n",
    "e = tf.random.shuffle(e)"
   ]
  },
  {
   "cell_type": "code",
   "execution_count": 40,
   "id": "2dee895c",
   "metadata": {},
   "outputs": [
    {
     "name": "stdout",
     "output_type": "stream",
     "text": [
      "tf.Tensor([5 1 3 9 7], shape=(5,), dtype=int32)\n"
     ]
    }
   ],
   "source": [
    "print(e)"
   ]
  },
  {
   "cell_type": "code",
   "execution_count": 41,
   "id": "8bd1fd81",
   "metadata": {},
   "outputs": [],
   "source": [
    "import numpy as np"
   ]
  },
  {
   "cell_type": "code",
   "execution_count": 43,
   "id": "0bf1a907",
   "metadata": {},
   "outputs": [],
   "source": [
    "a = np.array([[1,2,3],[4,5,6],[7,8,9]])"
   ]
  },
  {
   "cell_type": "code",
   "execution_count": 46,
   "id": "830f76e0",
   "metadata": {},
   "outputs": [
    {
     "data": {
      "text/plain": [
       "dtype('int32')"
      ]
     },
     "execution_count": 46,
     "metadata": {},
     "output_type": "execute_result"
    }
   ],
   "source": [
    "a.dtype"
   ]
  },
  {
   "cell_type": "code",
   "execution_count": 47,
   "id": "c970453d",
   "metadata": {},
   "outputs": [],
   "source": [
    "b = tf.convert_to_tensor(a)"
   ]
  },
  {
   "cell_type": "code",
   "execution_count": 48,
   "id": "7ccf1d84",
   "metadata": {},
   "outputs": [
    {
     "name": "stdout",
     "output_type": "stream",
     "text": [
      "tf.Tensor(\n",
      "[[1 2 3]\n",
      " [4 5 6]\n",
      " [7 8 9]], shape=(3, 3), dtype=int32)\n"
     ]
    }
   ],
   "source": [
    "print(b)"
   ]
  },
  {
   "cell_type": "code",
   "execution_count": 57,
   "id": "5e0a77bb",
   "metadata": {},
   "outputs": [],
   "source": [
    "import tensorflow as tf"
   ]
  },
  {
   "cell_type": "code",
   "execution_count": 61,
   "id": "4f22e767",
   "metadata": {},
   "outputs": [
    {
     "name": "stdout",
     "output_type": "stream",
     "text": [
      "tf.Tensor(\n",
      "[[[0. 0. 0.]\n",
      "  [0. 0. 0.]\n",
      "  [0. 0. 0.]]], shape=(1, 3, 3), dtype=float32)\n"
     ]
    }
   ],
   "source": [
    "print(c - c)"
   ]
  },
  {
   "cell_type": "code",
   "execution_count": 64,
   "id": "4d2d2273",
   "metadata": {},
   "outputs": [],
   "source": [
    "f = tf.math.divide(3,3)"
   ]
  },
  {
   "cell_type": "code",
   "execution_count": 65,
   "id": "f5d2f212",
   "metadata": {},
   "outputs": [
    {
     "name": "stdout",
     "output_type": "stream",
     "text": [
      "tf.Tensor(1.0, shape=(), dtype=float64)\n"
     ]
    }
   ],
   "source": [
    "print(f)"
   ]
  },
  {
   "cell_type": "code",
   "execution_count": 68,
   "id": "18b32150",
   "metadata": {},
   "outputs": [
    {
     "name": "stdout",
     "output_type": "stream",
     "text": [
      "tf.Tensor(0.75, shape=(), dtype=float64)\n"
     ]
    }
   ],
   "source": [
    "print(tf.math.divide(3,4))"
   ]
  },
  {
   "cell_type": "code",
   "execution_count": 81,
   "id": "28ce4dab",
   "metadata": {},
   "outputs": [
    {
     "name": "stdout",
     "output_type": "stream",
     "text": [
      "tf.Tensor(\n",
      "[[ 0  3  7]\n",
      " [ 4  4  9]\n",
      " [ 3  2 10]], shape=(3, 3), dtype=int32)\n"
     ]
    }
   ],
   "source": [
    "a = tf.math.abs(tf.random.uniform([3,3], minval = -10, maxval = 10, dtype = tf.int32))\n",
    "print(a)"
   ]
  },
  {
   "cell_type": "code",
   "execution_count": 82,
   "id": "c62534ea",
   "metadata": {},
   "outputs": [
    {
     "name": "stdout",
     "output_type": "stream",
     "text": [
      "tf.Tensor(\n",
      "[[0 0 1]\n",
      " [1 1 0]\n",
      " [0 2 1]], shape=(3, 3), dtype=int32)\n"
     ]
    }
   ],
   "source": [
    "print(tf.math.mod(a, 3))"
   ]
  },
  {
   "cell_type": "code",
   "execution_count": 84,
   "id": "549f18a0",
   "metadata": {},
   "outputs": [],
   "source": [
    "w = tf.nn.relu([-3,3,10])"
   ]
  },
  {
   "cell_type": "code",
   "execution_count": 87,
   "id": "231f2d58",
   "metadata": {},
   "outputs": [
    {
     "data": {
      "text/plain": [
       "[1, 3, 5, 7, 9]"
      ]
     },
     "execution_count": 87,
     "metadata": {},
     "output_type": "execute_result"
    }
   ],
   "source": [
    "[_ for _ in range(1,10,2)]"
   ]
  },
  {
   "cell_type": "code",
   "execution_count": 88,
   "id": "aeb21661",
   "metadata": {},
   "outputs": [],
   "source": [
    "a = np.array([[_ for _ in range(1,10,2)],[_ for _ in range(-2,8,2)],[_ for _ in range(-6,9,3)]])"
   ]
  },
  {
   "cell_type": "code",
   "execution_count": 91,
   "id": "02aefca2",
   "metadata": {},
   "outputs": [],
   "source": [
    "xvals = np.array([a, a+1])"
   ]
  },
  {
   "cell_type": "code",
   "execution_count": 92,
   "id": "de17f104",
   "metadata": {},
   "outputs": [],
   "source": [
    "xdata = tf.Variable(xvals, dtype = tf.float32)"
   ]
  },
  {
   "cell_type": "code",
   "execution_count": 94,
   "id": "2cff7fee",
   "metadata": {},
   "outputs": [],
   "source": [
    "# now you want to create a 5 x 1\n",
    "m1 = tf.constant([[1.],[0.],[-1.],[2.],[4.]])\n",
    "# constant tensor of size 1 x 1\n",
    "m2 = tf.constant([[2.]])\n",
    "# constant tensor of size 1 x 1\n",
    "a1 = tf.constant([[10.]])"
   ]
  },
  {
   "cell_type": "code",
   "execution_count": 99,
   "id": "daebabd6",
   "metadata": {},
   "outputs": [],
   "source": [
    "def prod1(a,b):\n",
    "    return tf.matmul(a,b)\n",
    "\n",
    "def prod2(a,b):\n",
    "    return tf.matmul(a,b)\n",
    "\n",
    "def add1(a,b):\n",
    "    return tf.add(a,b)"
   ]
  },
  {
   "cell_type": "code",
   "execution_count": 100,
   "id": "527ce180",
   "metadata": {},
   "outputs": [],
   "source": [
    "result = add1(prod2(prod1(xdata,m1), m2),a1)"
   ]
  },
  {
   "cell_type": "code",
   "execution_count": 103,
   "id": "1756e4ae",
   "metadata": {},
   "outputs": [
    {
     "name": "stdout",
     "output_type": "stream",
     "text": [
      "[[[102.]\n",
      "  [ 66.]\n",
      "  [ 58.]]\n",
      "\n",
      " [[114.]\n",
      "  [ 78.]\n",
      "  [ 70.]]]\n"
     ]
    }
   ],
   "source": [
    "print(result.numpy())"
   ]
  },
  {
   "cell_type": "code",
   "execution_count": 145,
   "id": "3298456a",
   "metadata": {},
   "outputs": [],
   "source": [
    "class Operations():\n",
    "    def __init__(self, a):\n",
    "        self.result = a\n",
    "    \n",
    "    def apply(self, func, b):\n",
    "        self.result = func(self.result,b)    \n",
    "        return self\n",
    "\n"
   ]
  },
  {
   "cell_type": "code",
   "execution_count": 146,
   "id": "eb2626fe",
   "metadata": {},
   "outputs": [],
   "source": [
    "operation = Operations(a = xdata)"
   ]
  },
  {
   "cell_type": "code",
   "execution_count": 147,
   "id": "42996b31",
   "metadata": {},
   "outputs": [
    {
     "data": {
      "text/plain": [
       "<__main__.Operations at 0x1a7380e1708>"
      ]
     },
     "execution_count": 147,
     "metadata": {},
     "output_type": "execute_result"
    }
   ],
   "source": [
    "operation.apply(prod1, m1).apply(prod2,m2).apply(add1, a1)"
   ]
  },
  {
   "cell_type": "code",
   "execution_count": 149,
   "id": "2cfa9161",
   "metadata": {},
   "outputs": [
    {
     "name": "stdout",
     "output_type": "stream",
     "text": [
      "[[[102.]\n",
      "  [ 66.]\n",
      "  [ 58.]]\n",
      "\n",
      " [[114.]\n",
      "  [ 78.]\n",
      "  [ 70.]]]\n"
     ]
    }
   ],
   "source": [
    "print(operation.result.numpy())"
   ]
  },
  {
   "cell_type": "code",
   "execution_count": 1,
   "id": "0f073f60",
   "metadata": {},
   "outputs": [],
   "source": [
    "# Working with Multiple Layers\n",
    "import tensorflow as tf\n",
    "import numpy as np"
   ]
  },
  {
   "cell_type": "code",
   "execution_count": 5,
   "id": "b547bd5b",
   "metadata": {},
   "outputs": [],
   "source": [
    "batch_size = [1]\n",
    "img_size   = [4,4,1]\n",
    "xval = tf.random.uniform(shape = batch_size + img_size)"
   ]
  },
  {
   "cell_type": "code",
   "execution_count": 22,
   "id": "ddc51d77",
   "metadata": {},
   "outputs": [],
   "source": [
    "# developing the first layer\n",
    "def moving_avg(x):\n",
    "    myFilter = tf.constant([[[[0.25]],[[0.25]]],[[[0.25]],[[0.25]]]], dtype = tf.float32)\n",
    "    myStrides= [1,2,2,1]\n",
    "    return tf.nn.conv2d(x, myFilter, myStrides, padding = 'SAME', name = 'moving_avg_layer')"
   ]
  },
  {
   "cell_type": "code",
   "execution_count": 23,
   "id": "722955bd",
   "metadata": {},
   "outputs": [],
   "source": [
    "# developing the second layer\n",
    "def second_layer(x):\n",
    "    # first would have to squeeze the input into a 2Dim matrix from a 4 Dim\n",
    "    x = tf.squeeze(x)\n",
    "    A = tf.constant([[1,2],[-1,4]], dtype = tf.float32)\n",
    "    b = tf.constant(1., shape = (2,2))\n",
    "    return tf.nn.sigmoid(tf.add(tf.matmul(A,x),b))"
   ]
  },
  {
   "cell_type": "code",
   "execution_count": 24,
   "id": "cb5028ee",
   "metadata": {},
   "outputs": [
    {
     "name": "stdout",
     "output_type": "stream",
     "text": [
      "[[0.89600694 0.7882971 ]\n",
      " [0.8939904  0.7705411 ]]\n"
     ]
    }
   ],
   "source": [
    "first_layer_tensor  = moving_avg(xval)\n",
    "second_layer_tensor = second_layer(first_layer_tensor)\n",
    "print(second_layer_tensor.numpy())"
   ]
  },
  {
   "cell_type": "code",
   "execution_count": 28,
   "id": "c4bc1806",
   "metadata": {},
   "outputs": [
    {
     "data": {
      "text/plain": [
       "12.0"
      ]
     },
     "execution_count": 28,
     "metadata": {},
     "output_type": "execute_result"
    }
   ],
   "source": [
    "np.median(np.array([18, 6, 12, 10, 15]))"
   ]
  },
  {
   "cell_type": "code",
   "execution_count": 30,
   "id": "7adc7d8a",
   "metadata": {},
   "outputs": [
    {
     "data": {
      "text/plain": [
       "400005.2"
      ]
     },
     "execution_count": 30,
     "metadata": {},
     "output_type": "execute_result"
    }
   ],
   "source": [
    "np.mean([4,6,7,9,2000000])"
   ]
  },
  {
   "cell_type": "code",
   "execution_count": null,
   "id": "0c17f87d",
   "metadata": {},
   "outputs": [],
   "source": []
  }
 ],
 "metadata": {
  "kernelspec": {
   "display_name": "Python 3 (ipykernel)",
   "language": "python",
   "name": "python3"
  },
  "language_info": {
   "codemirror_mode": {
    "name": "ipython",
    "version": 3
   },
   "file_extension": ".py",
   "mimetype": "text/x-python",
   "name": "python",
   "nbconvert_exporter": "python",
   "pygments_lexer": "ipython3",
   "version": "3.7.11"
  }
 },
 "nbformat": 4,
 "nbformat_minor": 5
}
