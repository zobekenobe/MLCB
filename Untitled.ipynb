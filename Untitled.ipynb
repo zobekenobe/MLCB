{
 "cells": [
  {
   "cell_type": "code",
   "execution_count": 2,
   "id": "4c9ddc7a",
   "metadata": {},
   "outputs": [],
   "source": [
    "from bs4 import BeautifulSoup as bs\n",
    "import requests"
   ]
  },
  {
   "cell_type": "code",
   "execution_count": 3,
   "id": "32538440",
   "metadata": {},
   "outputs": [],
   "source": [
    "url = 'https://www.amazon.co.uk/'\n",
    "page = requests.get(url)\n",
    "soup = bs(page.content)\n"
   ]
  },
  {
   "cell_type": "code",
   "execution_count": 15,
   "id": "31df4a78",
   "metadata": {},
   "outputs": [],
   "source": [
    "text = soup.find_all('div', {'class':'a-box-inner'})"
   ]
  },
  {
   "cell_type": "code",
   "execution_count": 16,
   "id": "98129e3e",
   "metadata": {},
   "outputs": [],
   "source": [
    "items = [_.text for _ in text]"
   ]
  },
  {
   "cell_type": "code",
   "execution_count": 17,
   "id": "ad9ed01c",
   "metadata": {},
   "outputs": [
    {
     "data": {
      "text/plain": [
       "[\"\\n\\nEnter the characters you see below\\nSorry, we just need to make sure you're not a robot. For best results, please make sure your browser is accepting cookies.\\n\",\n",
       " '\\n\\n\\n\\n\\n\\nType the characters you see in this image:\\n\\n\\n\\n\\n\\n\\n\\n\\n\\nTry different image\\n\\n\\n\\n\\n\\n\\n\\n\\n\\n\\n\\nContinue shopping\\n\\n\\n\\n\\n\\n',\n",
       " '\\nType the characters you see in this image:\\n\\n\\n\\n\\n\\n\\n\\n\\n\\nTry different image\\n\\n\\n\\n\\n']"
      ]
     },
     "execution_count": 17,
     "metadata": {},
     "output_type": "execute_result"
    }
   ],
   "source": [
    "items"
   ]
  },
  {
   "cell_type": "code",
   "execution_count": null,
   "id": "d3c1b577",
   "metadata": {},
   "outputs": [],
   "source": []
  }
 ],
 "metadata": {
  "kernelspec": {
   "display_name": "Python 3 (ipykernel)",
   "language": "python",
   "name": "python3"
  },
  "language_info": {
   "codemirror_mode": {
    "name": "ipython",
    "version": 3
   },
   "file_extension": ".py",
   "mimetype": "text/x-python",
   "name": "python",
   "nbconvert_exporter": "python",
   "pygments_lexer": "ipython3",
   "version": "3.7.11"
  }
 },
 "nbformat": 4,
 "nbformat_minor": 5
}
