{
 "cells": [
  {
   "cell_type": "code",
   "execution_count": 1,
   "id": "a1058083",
   "metadata": {},
   "outputs": [],
   "source": [
    "import tensorflow as tf\n",
    "import numpy as np"
   ]
  },
  {
   "cell_type": "markdown",
   "id": "35caacf1",
   "metadata": {},
   "source": [
    "### Working with Multiple layers"
   ]
  },
  {
   "cell_type": "code",
   "execution_count": 6,
   "id": "bc01889a",
   "metadata": {},
   "outputs": [],
   "source": [
    "# first create the image\n",
    "batch_size = [1]\n",
    "img_size   = [4,4,1]\n",
    "data       = tf.random.uniform(shape = batch_size + img_size)"
   ]
  },
  {
   "cell_type": "code",
   "execution_count": 16,
   "id": "dbc774a1",
   "metadata": {},
   "outputs": [],
   "source": [
    "# creating the moving layers\n",
    "def moving_layer(x):\n",
    "#     myFilter = tf.constant(0.25, shape = (2,2,1,1))\n",
    "    myFilter = tf.constant([[[[0.25]],[[0.25]]],[[[0.25]],[[0.25]]]])\n",
    "    myStrides= [1,2,2,1]\n",
    "    z = tf.nn.conv2d(x, myFilter, myStrides, padding = 'SAME', name = 'moving_layer')\n",
    "    return z"
   ]
  },
  {
   "cell_type": "code",
   "execution_count": 17,
   "id": "01fdce41",
   "metadata": {},
   "outputs": [],
   "source": [
    "# creating the second neuron layer i.e. weighted summation + activation\n",
    "def second_layer(x):\n",
    "    '''The input is 4 dimensional and should be squeezed to 2 dimensions'''\n",
    "    x = tf.squeeze(x)\n",
    "    A = tf.constant([[1,2],[-1, 4]], dtype = tf.float32)\n",
    "    b = tf.constant(1., shape = (2,2))\n",
    "    z = tf.add(tf.matmul(A,x), b)\n",
    "    return tf.nn.sigmoid(z)"
   ]
  },
  {
   "cell_type": "code",
   "execution_count": 18,
   "id": "f4ba6cdc",
   "metadata": {},
   "outputs": [
    {
     "name": "stdout",
     "output_type": "stream",
     "text": [
      "[[0.93297553 0.9044909 ]\n",
      " [0.9147111  0.937245  ]]\n"
     ]
    }
   ],
   "source": [
    "first_layer_tensor = moving_layer(data)\n",
    "second_layer_tensor= second_layer(first_layer_tensor)\n",
    "print(second_layer_tensor.numpy())"
   ]
  },
  {
   "cell_type": "markdown",
   "id": "fc750c11",
   "metadata": {},
   "source": [
    "### Backpropagation"
   ]
  },
  {
   "cell_type": "code",
   "execution_count": 35,
   "id": "c9d87c12",
   "metadata": {},
   "outputs": [],
   "source": [
    "import numpy as np\n",
    "import tensorflow as tf\n",
    "import matplotlib.pyplot as plt"
   ]
  },
  {
   "cell_type": "code",
   "execution_count": 36,
   "id": "e485089b",
   "metadata": {},
   "outputs": [],
   "source": [
    "np.random.seed(0)\n",
    "xvals = np.random.normal(1, 0.1, 100).astype(np.float32)\n",
    "yvals = (xvals * np.random.normal(1, 0.05, 100)-0.5).astype('float32')"
   ]
  },
  {
   "cell_type": "code",
   "execution_count": 37,
   "id": "71985006",
   "metadata": {},
   "outputs": [
    {
     "data": {
      "image/png": "[encoded data removed]",
      "text/plain": [
       "<Figure size 432x288 with 1 Axes>"
      ]
     },
     "metadata": {
      "needs_background": "light"
     },
     "output_type": "display_data"
    }
   ],
   "source": [
    "plt.scatter(xvals, yvals)\n",
    "plt.show()"
   ]
  },
  {
   "cell_type": "code",
   "execution_count": 56,
   "id": "9eddfe43",
   "metadata": {},
   "outputs": [],
   "source": [
    "def my_output(x, weights, biases):\n",
    "    return tf.add(tf.multiply(x, weights), biases)"
   ]
  },
  {
   "cell_type": "code",
   "execution_count": 57,
   "id": "5a3e3ef2",
   "metadata": {},
   "outputs": [],
   "source": [
    "def L2_loss_func(ytrue, ypred):\n",
    "    return tf.reduce_mean(tf.square(ypred - ytrue))"
   ]
  },
  {
   "cell_type": "code",
   "execution_count": 62,
   "id": "aad17c5f",
   "metadata": {},
   "outputs": [],
   "source": [
    "my_opt = tf.optimizers.SGD(learning_rate = 0.02)"
   ]
  },
  {
   "cell_type": "code",
   "execution_count": 63,
   "id": "fa2e560b",
   "metadata": {},
   "outputs": [],
   "source": [
    "tf.random.set_seed(1)\n",
    "np.random.seed(0)\n",
    "weights = tf.Variable(tf.random.normal(shape = [1]))\n",
    "biases  = tf.Variable(tf.random.normal(shape = [1]))\n",
    "history = []"
   ]
  },
  {
   "cell_type": "code",
   "execution_count": 66,
   "id": "00fdb53e",
   "metadata": {},
   "outputs": [
    {
     "name": "stdout",
     "output_type": "stream",
     "text": [
      "Step:25 Weights:[-0.43744692] Biases:[0.980521]\n",
      "Loss : 0.00911057461053133\n",
      "Step:50 Weights:[-0.41757247] Biases:[0.98669845]\n",
      "Loss : 0.0066385092213749886\n",
      "Step:75 Weights:[-0.42524943] Biases:[0.95881224]\n",
      "Loss : 0.10905004292726517\n",
      "Step:100 Weights:[-0.4293466] Biases:[0.9367944]\n",
      "Loss : 0.034686408936977386\n"
     ]
    }
   ],
   "source": [
    "for i in range(100):\n",
    "    rand_index = np.random.choice(100)\n",
    "    rand_x = [xvals[rand_index]]\n",
    "    rand_y = [yvals[rand_index]]\n",
    "    \n",
    "    with tf.GradientTape() as tape:\n",
    "        predictions = my_output(rand_x, weights, biases)\n",
    "        loss = L2_loss_func(rand_y, predictions)\n",
    "    history.append(loss.numpy())\n",
    "    gradients = tape.gradient(loss, [weights, biases])\n",
    "    my_opt.apply_gradients(zip(gradients, [weights, biases]))\n",
    "    if(i+1)%25 == 0:\n",
    "        print(f'Step:{i+1} Weights:{weights.numpy()} Biases:{biases.numpy()}')\n",
    "        print(f'Loss : {loss.numpy()}')\n",
    "    "
   ]
  },
  {
   "cell_type": "code",
   "execution_count": 67,
   "id": "8f85d851",
   "metadata": {},
   "outputs": [],
   "source": [
    "x = tf.Variable(3.0)\n",
    "\n",
    "with tf.GradientTape() as tape:\n",
    "    y = x**2\n",
    "    gradients_dydx = tape.gradient(y, x)"
   ]
  },
  {
   "cell_type": "code",
   "execution_count": 68,
   "id": "22f2b1e8",
   "metadata": {},
   "outputs": [
    {
     "name": "stdout",
     "output_type": "stream",
     "text": [
      "6.0\n"
     ]
    }
   ],
   "source": [
    "print(gradients_dydx.numpy())"
   ]
  },
  {
   "cell_type": "code",
   "execution_count": 70,
   "id": "eacdf752",
   "metadata": {},
   "outputs": [
    {
     "data": {
      "image/png": "[encoded data removed]",
      "text/plain": [
       "<Figure size 432x288 with 1 Axes>"
      ]
     },
     "metadata": {
      "needs_background": "light"
     },
     "output_type": "display_data"
    }
   ],
   "source": [
    "plt.plot(history)\n",
    "plt.xlabel('iterations')\n",
    "plt.ylabel('loss')\n",
    "plt.show()"
   ]
  },
  {
   "cell_type": "code",
   "execution_count": 77,
   "id": "906c0c04",
   "metadata": {},
   "outputs": [],
   "source": [
    "a = np.concatenate((np.random.normal(3,1,50),np.random.normal(-3,1,50)))"
   ]
  },
  {
   "cell_type": "code",
   "execution_count": 87,
   "id": "b4ac4525",
   "metadata": {},
   "outputs": [],
   "source": [
    "a = np.array([1,2,3,4,5])\n",
    "b = np.array([6,7,8,9,0])\n",
    "c = np.concatenate(tuple((a,b)))"
   ]
  },
  {
   "cell_type": "code",
   "execution_count": 88,
   "id": "c8b80694",
   "metadata": {},
   "outputs": [
    {
     "data": {
      "text/plain": [
       "array([1, 2, 3, 4, 5, 6, 7, 8, 9, 0])"
      ]
     },
     "execution_count": 88,
     "metadata": {},
     "output_type": "execute_result"
    }
   ],
   "source": [
    "c"
   ]
  },
  {
   "cell_type": "code",
   "execution_count": 89,
   "id": "dee5582d",
   "metadata": {},
   "outputs": [
    {
     "name": "stdout",
     "output_type": "stream",
     "text": [
      "[1 2 3 4 5] [6 7 8 9 0]\n"
     ]
    }
   ],
   "source": [
    "print(a,b)"
   ]
  },
  {
   "cell_type": "code",
   "execution_count": 90,
   "id": "067af8e0",
   "metadata": {},
   "outputs": [],
   "source": [
    "# practicing concatenation\n",
    "a = np.array([[1,2],[3,4]])\n",
    "b = np.array([5,6])"
   ]
  },
  {
   "cell_type": "code",
   "execution_count": 93,
   "id": "c178df7f",
   "metadata": {},
   "outputs": [
    {
     "name": "stdout",
     "output_type": "stream",
     "text": [
      "[[1 2 5]\n",
      " [3 4 6]]\n"
     ]
    }
   ],
   "source": [
    "print(np.concatenate((a, np.reshape(b, (2,1))), axis  = 1))"
   ]
  },
  {
   "cell_type": "code",
   "execution_count": 96,
   "id": "1512988f",
   "metadata": {},
   "outputs": [
    {
     "name": "stdout",
     "output_type": "stream",
     "text": [
      "[[1 2]\n",
      " [3 4]\n",
      " [5 6]]\n"
     ]
    }
   ],
   "source": [
    "print(np.concatenate((a, np.reshape(b, (1,2))), axis = 0))"
   ]
  },
  {
   "cell_type": "code",
   "execution_count": null,
   "id": "905e8975",
   "metadata": {},
   "outputs": [],
   "source": []
  }
 ],
 "metadata": {
  "kernelspec": {
   "display_name": "Python 3 (ipykernel)",
   "language": "python",
   "name": "python3"
  },
  "language_info": {
   "codemirror_mode": {
    "name": "ipython",
    "version": 3
   },
   "file_extension": ".py",
   "mimetype": "text/x-python",
   "name": "python",
   "nbconvert_exporter": "python",
   "pygments_lexer": "ipython3",
   "version": "3.7.11"
  }
 },
 "nbformat": 4,
 "nbformat_minor": 5
}
