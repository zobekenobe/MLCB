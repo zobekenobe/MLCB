{
 "cells": [
  {
   "cell_type": "code",
   "execution_count": 1,
   "id": "265efd54",
   "metadata": {},
   "outputs": [],
   "source": [
    "import tensorflow as tf\n",
    "import numpy as np"
   ]
  },
  {
   "cell_type": "markdown",
   "id": "36b57248",
   "metadata": {},
   "source": [
    "### Working with Multiple layers"
   ]
  },
  {
   "cell_type": "code",
   "execution_count": 6,
   "id": "f43cc80f",
   "metadata": {},
   "outputs": [],
   "source": [
    "# first create the image\n",
    "batch_size = [1]\n",
    "img_size   = [4,4,1]\n",
    "data       = tf.random.uniform(shape = batch_size + img_size)"
   ]
  },
  {
   "cell_type": "code",
   "execution_count": 16,
   "id": "3fd22630",
   "metadata": {},
   "outputs": [],
   "source": [
    "# creating the moving layers\n",
    "def moving_layer(x):\n",
    "#     myFilter = tf.constant(0.25, shape = (2,2,1,1))\n",
    "    myFilter = tf.constant([[[[0.25]],[[0.25]]],[[[0.25]],[[0.25]]]])\n",
    "    myStrides= [1,2,2,1]\n",
    "    z = tf.nn.conv2d(x, myFilter, myStrides, padding = 'SAME', name = 'moving_layer')\n",
    "    return z"
   ]
  },
  {
   "cell_type": "code",
   "execution_count": 17,
   "id": "580c300d",
   "metadata": {},
   "outputs": [],
   "source": [
    "# creating the second neuron layer i.e. weighted summation + activation\n",
    "def second_layer(x):\n",
    "    '''The input is 4 dimensional and should be squeezed to 2 dimensions'''\n",
    "    x = tf.squeeze(x)\n",
    "    A = tf.constant([[1,2],[-1, 4]], dtype = tf.float32)\n",
    "    b = tf.constant(1., shape = (2,2))\n",
    "    z = tf.add(tf.matmul(A,x), b)\n",
    "    return tf.nn.sigmoid(z)"
   ]
  },
  {
   "cell_type": "code",
   "execution_count": 18,
   "id": "2b5a243b",
   "metadata": {},
   "outputs": [
    {
     "name": "stdout",
     "output_type": "stream",
     "text": [
      "[[0.93297553 0.9044909 ]\n",
      " [0.9147111  0.937245  ]]\n"
     ]
    }
   ],
   "source": [
    "first_layer_tensor = moving_layer(data)\n",
    "second_layer_tensor= second_layer(first_layer_tensor)\n",
    "print(second_layer_tensor.numpy())"
   ]
  },
  {
   "cell_type": "markdown",
   "id": "97aa8519",
   "metadata": {},
   "source": [
    "### Backpropagation"
   ]
  },
  {
   "cell_type": "code",
   "execution_count": 35,
   "id": "c8dc4a9d",
   "metadata": {},
   "outputs": [],
   "source": [
    "import numpy as np\n",
    "import tensorflow as tf\n",
    "import matplotlib.pyplot as plt"
   ]
  },
  {
   "cell_type": "code",
   "execution_count": 36,
   "id": "5a1c319e",
   "metadata": {},
   "outputs": [],
   "source": [
    "np.random.seed(0)\n",
    "xvals = np.random.normal(1, 0.1, 100).astype(np.float32)\n",
    "yvals = (xvals * np.random.normal(1, 0.05, 100)-0.5).astype('float32')"
   ]
  },
  {
   "cell_type": "code",
   "execution_count": 37,
   "id": "a14001d7",
   "metadata": {},
   "outputs": [
    {
     "data": {
      "image/png": "[encoded data removed]",
      "text/plain": [
       "<Figure size 432x288 with 1 Axes>"
      ]
     },
     "metadata": {
      "needs_background": "light"
     },
     "output_type": "display_data"
    }
   ],
   "source": [
    "plt.scatter(xvals, yvals)\n",
    "plt.show()"
   ]
  },
  {
   "cell_type": "code",
   "execution_count": 56,
   "id": "3e65056b",
   "metadata": {},
   "outputs": [],
   "source": [
    "def my_output(x, weights, biases):\n",
    "    return tf.add(tf.multiply(x, weights), biases)"
   ]
  },
  {
   "cell_type": "code",
   "execution_count": 57,
   "id": "3c2aa0a6",
   "metadata": {},
   "outputs": [],
   "source": [
    "def L2_loss_func(ytrue, ypred):\n",
    "    return tf.reduce_mean(tf.square(ypred - ytrue))"
   ]
  },
  {
   "cell_type": "code",
   "execution_count": 62,
   "id": "4ab0c970",
   "metadata": {},
   "outputs": [],
   "source": [
    "my_opt = tf.optimizers.SGD(learning_rate = 0.02)"
   ]
  },
  {
   "cell_type": "code",
   "execution_count": 63,
   "id": "7a8520fc",
   "metadata": {},
   "outputs": [],
   "source": [
    "tf.random.set_seed(1)\n",
    "np.random.seed(0)\n",
    "weights = tf.Variable(tf.random.normal(shape = [1]))\n",
    "biases  = tf.Variable(tf.random.normal(shape = [1]))\n",
    "history = []"
   ]
  },
  {
   "cell_type": "code",
   "execution_count": 66,
   "id": "3911fb85",
   "metadata": {},
   "outputs": [
    {
     "name": "stdout",
     "output_type": "stream",
     "text": [
      "Step:25 Weights:[-0.43744692] Biases:[0.980521]\n",
      "Loss : 0.00911057461053133\n",
      "Step:50 Weights:[-0.41757247] Biases:[0.98669845]\n",
      "Loss : 0.0066385092213749886\n",
      "Step:75 Weights:[-0.42524943] Biases:[0.95881224]\n",
      "Loss : 0.10905004292726517\n",
      "Step:100 Weights:[-0.4293466] Biases:[0.9367944]\n",
      "Loss : 0.034686408936977386\n"
     ]
    }
   ],
   "source": [
    "for i in range(100):\n",
    "    rand_index = np.random.choice(100)\n",
    "    rand_x = [xvals[rand_index]]\n",
    "    rand_y = [yvals[rand_index]]\n",
    "    \n",
    "    with tf.GradientTape() as tape:\n",
    "        predictions = my_output(rand_x, weights, biases)\n",
    "        loss = L2_loss_func(rand_y, predictions)\n",
    "    history.append(loss.numpy())\n",
    "    gradients = tape.gradient(loss, [weights, biases])\n",
    "    my_opt.apply_gradients(zip(gradients, [weights, biases]))\n",
    "    if(i+1)%25 == 0:\n",
    "        print(f'Step:{i+1} Weights:{weights.numpy()} Biases:{biases.numpy()}')\n",
    "        print(f'Loss : {loss.numpy()}')\n",
    "    "
   ]
  },
  {
   "cell_type": "code",
   "execution_count": 67,
   "id": "da1a1c9a",
   "metadata": {},
   "outputs": [],
   "source": [
    "x = tf.Variable(3.0)\n",
    "\n",
    "with tf.GradientTape() as tape:\n",
    "    y = x**2\n",
    "    gradients_dydx = tape.gradient(y, x)"
   ]
  },
  {
   "cell_type": "code",
   "execution_count": 68,
   "id": "b18048d9",
   "metadata": {},
   "outputs": [
    {
     "name": "stdout",
     "output_type": "stream",
     "text": [
      "6.0\n"
     ]
    }
   ],
   "source": [
    "print(gradients_dydx.numpy())"
   ]
  },
  {
   "cell_type": "code",
   "execution_count": 70,
   "id": "e5f07a05",
   "metadata": {},
   "outputs": [
    {
     "data": {
      "image/png": "[encoded data removed]",
      "text/plain": [
       "<Figure size 432x288 with 1 Axes>"
      ]
     },
     "metadata": {
      "needs_background": "light"
     },
     "output_type": "display_data"
    }
   ],
   "source": [
    "plt.plot(history)\n",
    "plt.xlabel('iterations')\n",
    "plt.ylabel('loss')\n",
    "plt.show()"
   ]
  },
  {
   "cell_type": "code",
   "execution_count": 77,
   "id": "a9b11404",
   "metadata": {},
   "outputs": [],
   "source": [
    "a = np.concatenate((np.random.normal(3,1,50),np.random.normal(-3,1,50)))"
   ]
  },
  {
   "cell_type": "code",
   "execution_count": 87,
   "id": "f73c615e",
   "metadata": {},
   "outputs": [],
   "source": [
    "a = np.array([1,2,3,4,5])\n",
    "b = np.array([6,7,8,9,0])\n",
    "c = np.concatenate(tuple((a,b)))"
   ]
  },
  {
   "cell_type": "code",
   "execution_count": 88,
   "id": "3bd4da19",
   "metadata": {},
   "outputs": [
    {
     "data": {
      "text/plain": [
       "array([1, 2, 3, 4, 5, 6, 7, 8, 9, 0])"
      ]
     },
     "execution_count": 88,
     "metadata": {},
     "output_type": "execute_result"
    }
   ],
   "source": [
    "c"
   ]
  },
  {
   "cell_type": "code",
   "execution_count": 89,
   "id": "e3061dbc",
   "metadata": {},
   "outputs": [
    {
     "name": "stdout",
     "output_type": "stream",
     "text": [
      "[1 2 3 4 5] [6 7 8 9 0]\n"
     ]
    }
   ],
   "source": [
    "print(a,b)"
   ]
  },
  {
   "cell_type": "code",
   "execution_count": 90,
   "id": "5f78a7e7",
   "metadata": {},
   "outputs": [],
   "source": [
    "# practicing concatenation\n",
    "a = np.array([[1,2],[3,4]])\n",
    "b = np.array([5,6])"
   ]
  },
  {
   "cell_type": "code",
   "execution_count": 93,
   "id": "99708249",
   "metadata": {},
   "outputs": [
    {
     "name": "stdout",
     "output_type": "stream",
     "text": [
      "[[1 2 5]\n",
      " [3 4 6]]\n"
     ]
    }
   ],
   "source": [
    "print(np.concatenate((a, np.reshape(b, (2,1))), axis  = 1))"
   ]
  },
  {
   "cell_type": "code",
   "execution_count": 96,
   "id": "a911c5e5",
   "metadata": {},
   "outputs": [
    {
     "name": "stdout",
     "output_type": "stream",
     "text": [
      "[[1 2]\n",
      " [3 4]\n",
      " [5 6]]\n"
     ]
    }
   ],
   "source": [
    "print(np.concatenate((a, np.reshape(b, (1,2))), axis = 0))"
   ]
  },
  {
   "cell_type": "code",
   "execution_count": 99,
   "id": "1aee8afe",
   "metadata": {},
   "outputs": [],
   "source": [
    "# Simple Linear regression example\n",
    "import numpy \n",
    "import tensorflow as tf\n",
    "import matplotlib.pyplot as plt"
   ]
  },
  {
   "cell_type": "code",
   "execution_count": null,
   "id": "5c068a80",
   "metadata": {},
   "outputs": [],
   "source": []
  },
  {
   "cell_type": "code",
   "execution_count": 103,
   "id": "02895699",
   "metadata": {},
   "outputs": [],
   "source": [
    "def my_output(x, weights, biases):\n",
    "    return tf.add(tf.multiply(x, weights), biases)"
   ]
  },
  {
   "cell_type": "code",
   "execution_count": 105,
   "id": "7700f860",
   "metadata": {},
   "outputs": [],
   "source": [
    "def L2_loss(ytrue, ypred):\n",
    "    return tf.reduce_mean(tf.square(ytrue - ypred))"
   ]
  },
  {
   "cell_type": "code",
   "execution_count": 142,
   "id": "d25cb2a3",
   "metadata": {},
   "outputs": [],
   "source": [
    "my_opt = tf.optimizers.SGD(learning_rate = 0.02)"
   ]
  },
  {
   "cell_type": "code",
   "execution_count": 126,
   "id": "3b45e9fd",
   "metadata": {},
   "outputs": [],
   "source": [
    "# sampling the weights and biases\n",
    "tf.random.set_seed(1)\n",
    "np.random.seed(0)\n",
    "weights = tf.Variable(tf.random.normal(shape = [1]))\n",
    "biases  = tf.Variable(tf.random.normal(shape = [1]))"
   ]
  },
  {
   "cell_type": "code",
   "execution_count": null,
   "id": "4c1d21ba",
   "metadata": {},
   "outputs": [],
   "source": []
  },
  {
   "cell_type": "code",
   "execution_count": 128,
   "id": "b171a568",
   "metadata": {},
   "outputs": [],
   "source": [
    "# Sample data from a random normal distribution\n",
    "np.random.seed(0)\n",
    "x = np.random.normal(1, 0.1, 100).astype('float32')\n",
    "y = (x * np.random.normal(1,0.05,100)-0.5).astype('float32')"
   ]
  },
  {
   "cell_type": "code",
   "execution_count": 129,
   "id": "98d7a6a8",
   "metadata": {},
   "outputs": [
    {
     "data": {
      "image/png": "[encoded data removed]",
      "text/plain": [
       "<Figure size 432x288 with 1 Axes>"
      ]
     },
     "metadata": {
      "needs_background": "light"
     },
     "output_type": "display_data"
    }
   ],
   "source": [
    "plt.scatter(x, y)\n",
    "plt.show()"
   ]
  },
  {
   "cell_type": "code",
   "execution_count": 130,
   "id": "c37ee458",
   "metadata": {},
   "outputs": [],
   "source": [
    "# Sample random weights and biases\n",
    "np.random.seed(0)\n",
    "tf.random.set_seed(1)\n",
    "\n",
    "weights = tf.Variable(tf.random.normal(shape = [1]))\n",
    "biases  = tf.Variable(tf.random.normal(shape = [1]))\n",
    "history = []"
   ]
  },
  {
   "cell_type": "code",
   "execution_count": 145,
   "id": "86159b07",
   "metadata": {},
   "outputs": [
    {
     "name": "stdout",
     "output_type": "stream",
     "text": [
      "Step : 25, weights : [-0.3565607], biases : [0.88825095]\n",
      "loss : 0.010149523615837097\n",
      "Step : 50, weights : [-0.3603389], biases : [0.8632196]\n",
      "loss : 0.04632649943232536\n",
      "Step : 75, weights : [-0.33896312], biases : [0.8546998]\n",
      "loss : 0.1342022716999054\n",
      "Step : 100, weights : [-0.2849211], biases : [0.88979495]\n",
      "loss : 0.07252684980630875\n"
     ]
    }
   ],
   "source": [
    "# iterate for 100 iterations\n",
    "for i in range(100):\n",
    "    # randomly sample positionally x and y\n",
    "    ind = np.random.choice(len(x))\n",
    "    x_= x[ind]\n",
    "    y_= y[ind]\n",
    "    # start recording the feedforward opertions with tf.GradientTape\n",
    "    with tf.GradientTape() as tape:\n",
    "    # Step 1 : Perform the feed forward operations\n",
    "        ypred = my_output(x_, weights, biases)\n",
    "        loss  = L2_loss(y_, ypred)\n",
    "    history.append(loss.numpy())\n",
    "    # Step 2 : Calculate the gradients\n",
    "    gradients = tape.gradient(loss, [weights, biases])\n",
    "    # Step 3 : Apply the gradients on the target variables\n",
    "    my_opt.apply_gradients(zip(gradients, [weights, biases]))\n",
    "    if(i+1)%25 == 0:\n",
    "        print(f'Step : {(i+1)}, weights : {weights.numpy()}, biases : {biases.numpy()}')\n",
    "        print(f'loss : {loss.numpy()}')"
   ]
  },
  {
   "cell_type": "code",
   "execution_count": 157,
   "id": "888a02b4",
   "metadata": {},
   "outputs": [
    {
     "data": {
      "text/plain": [
       "Text(0, 0.5, 'Loss')"
      ]
     },
     "execution_count": 157,
     "metadata": {},
     "output_type": "execute_result"
    },
    {
     "data": {
      "image/png": "[encoded data removed]",
      "text/plain": [
       "<Figure size 432x288 with 1 Axes>"
      ]
     },
     "metadata": {
      "needs_background": "light"
     },
     "output_type": "display_data"
    }
   ],
   "source": [
    "plt.plot(history)\n",
    "plt.xlabel('Iterations')\n",
    "plt.ylabel('Loss')"
   ]
  },
  {
   "cell_type": "code",
   "execution_count": 158,
   "id": "c11005d3",
   "metadata": {},
   "outputs": [],
   "source": [
    "# Solving a simple classification problem\n",
    "import numpy as np\n",
    "import tensorflow as tf\n",
    "import matplotlib.pyplot as plt\n",
    "%matplotlib inline"
   ]
  },
  {
   "cell_type": "code",
   "execution_count": 166,
   "id": "d57036ad",
   "metadata": {},
   "outputs": [],
   "source": [
    "# Sample random values of x so they belong to two classes \n",
    "# centred around -3 and 3\n",
    "x = np.concatenate((np.random.normal(-3, 1, 50), np.random.normal(3, 1, 50))).astype(np.float32)\n",
    "\n",
    "# make an equivalent set of y's that only take two values based on which\n",
    "# class it belongs to, 0 --> -3 and 1-->3\n",
    "y = np.concatenate((np.repeat(0., 50), np.repeat(1., 50))).astype(np.float32)"
   ]
  },
  {
   "cell_type": "code",
   "execution_count": 168,
   "id": "06b78b6a",
   "metadata": {},
   "outputs": [
    {
     "data": {
      "image/png": "[encoded data removed]",
      "text/plain": [
       "<Figure size 432x288 with 1 Axes>"
      ]
     },
     "metadata": {
      "needs_background": "light"
     },
     "output_type": "display_data"
    }
   ],
   "source": [
    "plt.hist(x[y == 1], color = 'b')\n",
    "plt.hist(x[y == 0], color = 'r')\n",
    "plt.show()"
   ]
  },
  {
   "cell_type": "code",
   "execution_count": 172,
   "id": "75221475",
   "metadata": {},
   "outputs": [],
   "source": [
    "# updating the loss function\n",
    "def loss_func(ytrue, ypred):\n",
    "    return tf.reduce_mean(tf.nn.sigmoid_cross_entropy_with_logits(labels=ytrue, logits = ypred))"
   ]
  },
  {
   "cell_type": "code",
   "execution_count": 173,
   "id": "b605856d",
   "metadata": {},
   "outputs": [],
   "source": [
    "# initialize the weights and the biases\n",
    "tf.random.set_seed(1)\n",
    "np.random.seed(0)\n",
    "\n",
    "weights = tf.Variable(tf.random.normal(shape = [1]))\n",
    "biases  = tf.Variable(tf.random.normal(shape = [1]))\n",
    "history = []"
   ]
  },
  {
   "cell_type": "code",
   "execution_count": 176,
   "id": "3765b322",
   "metadata": {},
   "outputs": [
    {
     "name": "stdout",
     "output_type": "stream",
     "text": [
      "step : 25, weights : [0.13385345], biases : [0.45627844]\n",
      "loss : 0.7780274152755737\n",
      "step : 50, weights : [0.52655023], biases : [0.41042128]\n",
      "loss : 0.08553395420312881\n",
      "step : 75, weights : [0.7320191], biases : [0.35961443]\n",
      "loss : 0.10598313808441162\n",
      "step : 100, weights : [0.8541594], biases : [0.3555894]\n",
      "loss : 0.17221052944660187\n"
     ]
    }
   ],
   "source": [
    "for i in range(100):\n",
    "    idx = np.random.choice(100)\n",
    "    x_ = [x[idx]]\n",
    "    y_ = [y[idx]]\n",
    "    with tf.GradientTape() as tape:\n",
    "    # Step 1 : perform the feedforward operations\n",
    "        ypred = my_output(x_, weights, biases)\n",
    "        loss  = loss_func(y_, ypred)\n",
    "    history.append(loss)\n",
    "    # Step 2 : Calculate the loss\n",
    "    gradients = tape.gradient(loss, [weights ,biases])\n",
    "    # Step 3 : Apply the gradient\n",
    "    my_opt.apply_gradients(zip(gradients, [weights, biases]))\n",
    "    if (i+1)%25 == 0:\n",
    "        print(f'step : {i+1}, weights : {weights.numpy()}, biases : {biases.numpy()}')\n",
    "        print(f'loss : {loss.numpy()}')\n",
    "        "
   ]
  },
  {
   "cell_type": "code",
   "execution_count": 177,
   "id": "28f5700c",
   "metadata": {},
   "outputs": [
    {
     "data": {
      "image/png": "[encoded data removed]",
      "text/plain": [
       "<Figure size 432x288 with 1 Axes>"
      ]
     },
     "metadata": {
      "needs_background": "light"
     },
     "output_type": "display_data"
    }
   ],
   "source": [
    "plt.plot(history)\n",
    "plt.xlabel('iterations')\n",
    "plt.ylabel('loss')\n",
    "plt.show()"
   ]
  },
  {
   "cell_type": "code",
   "execution_count": 178,
   "id": "c4f42c61",
   "metadata": {},
   "outputs": [],
   "source": [
    "opt2 = tf.optimizers.SGD(learning_rate = 0.01)"
   ]
  },
  {
   "cell_type": "markdown",
   "id": "94eb9534",
   "metadata": {},
   "source": [
    "## Batch and Stochastic Training"
   ]
  },
  {
   "cell_type": "code",
   "execution_count": 179,
   "id": "0f336b92",
   "metadata": {},
   "outputs": [],
   "source": [
    "import numpy as np\n",
    "import tensorflow as tf\n",
    "import matplotlib.pyplot as plt"
   ]
  },
  {
   "cell_type": "code",
   "execution_count": 187,
   "id": "edb86a41",
   "metadata": {},
   "outputs": [
    {
     "name": "stdout",
     "output_type": "stream",
     "text": [
      "Step:  25, weights : [-0.5499922], biases : [0.9312352]\n",
      "Loss : 0.08445028215646744\n",
      "Step:  50, weights : [-0.47954342], biases : [0.9839728]\n",
      "Loss : 0.031912535429000854\n",
      "Step:  75, weights : [-0.46342766], biases : [0.98506767]\n",
      "Loss : 0.034592218697071075\n",
      "Step:  100, weights : [-0.44716042], biases : [0.9861024]\n",
      "Loss : 0.02924300730228424\n"
     ]
    }
   ],
   "source": [
    "batch_size = 20\n",
    "np.random.seed(0)\n",
    "x = np.random.normal(1,0.1, 100).astype(np.float32)\n",
    "y = (x * np.random.normal(1, 0.05, 100) - 0.5).astype(np.float32)\n",
    "\n",
    "def loss_func(ytrue, ypred):\n",
    "    return tf.reduce_mean(tf.square(ytrue - ypred))\n",
    "\n",
    "def my_output(x, weights, biases):\n",
    "    return tf.add(tf.multiply(x, weights), biases)\n",
    "\n",
    "opt = tf.optimizers.SGD(learning_rate = 0.02)\n",
    "\n",
    "np.random.seed(0)\n",
    "tf.random.set_seed(1)\n",
    "\n",
    "weights = tf.Variable(tf.random.normal(shape = [1]))\n",
    "biases  = tf.Variable(tf.random.normal(shape = [1]))\n",
    "\n",
    "history = []\n",
    "for i in range(100):\n",
    "    idx = np.random.choice(len(x), size = batch_size)\n",
    "    x_ = [x[idx]]\n",
    "    y_ = [y[idx]]\n",
    "    #Step 1 : Monitor the feed forward operations\n",
    "    with tf.GradientTape() as tape:\n",
    "        ypred = my_output(x_, weights, biases)\n",
    "        loss  = loss_func(y_, ypred)\n",
    "    history.append(loss)\n",
    "    #Step 2 : find the gradients\n",
    "    gradients = tape.gradient(loss, [weights, biases])\n",
    "    my_opt.apply_gradients(zip(gradients, [weights, biases]))\n",
    "    if (i+1)%25 == 0:\n",
    "        print(f'Step:  {(i+1)}, weights : {weights.numpy()}, biases : {biases.numpy()}')\n",
    "        print(f'Loss : {loss.numpy()}')"
   ]
  },
  {
   "cell_type": "code",
   "execution_count": 189,
   "id": "7d76dd1f",
   "metadata": {},
   "outputs": [
    {
     "data": {
      "image/png": "[encoded data removed]",
      "text/plain": [
       "<Figure size 432x288 with 1 Axes>"
      ]
     },
     "metadata": {
      "needs_background": "light"
     },
     "output_type": "display_data"
    }
   ],
   "source": [
    "plt.plot(history)\n",
    "plt.xlabel('iterations')\n",
    "plt.ylabel('loss')\n",
    "plt.show()"
   ]
  },
  {
   "cell_type": "code",
   "execution_count": null,
   "id": "f3d37c4b",
   "metadata": {},
   "outputs": [],
   "source": []
  }
 ],
 "metadata": {
  "kernelspec": {
   "display_name": "Python 3 (ipykernel)",
   "language": "python",
   "name": "python3"
  },
  "language_info": {
   "codemirror_mode": {
    "name": "ipython",
    "version": 3
   },
   "file_extension": ".py",
   "mimetype": "text/x-python",
   "name": "python",
   "nbconvert_exporter": "python",
   "pygments_lexer": "ipython3",
   "version": "3.7.11"
  }
 },
 "nbformat": 4,
 "nbformat_minor": 5
}
