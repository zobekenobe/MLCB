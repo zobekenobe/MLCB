{
 "cells": [
  {
   "cell_type": "code",
   "execution_count": 1,
   "id": "95199015",
   "metadata": {},
   "outputs": [],
   "source": [
    "import tensorflow as tf\n",
    "import numpy as np"
   ]
  },
  {
   "cell_type": "code",
   "execution_count": 4,
   "id": "0318e4de",
   "metadata": {},
   "outputs": [],
   "source": [
    "v = tf.Variable(tf.random.normal(shape = (1,5)), shape = tf.TensorShape((None, 5)))"
   ]
  },
  {
   "cell_type": "code",
   "execution_count": 10,
   "id": "e33a2518",
   "metadata": {},
   "outputs": [],
   "source": [
    "v = v.assign(tf.random.normal(shape = (10,5)))"
   ]
  },
  {
   "cell_type": "markdown",
   "id": "51683c25",
   "metadata": {},
   "source": [
    "## Working on multiple layers"
   ]
  },
  {
   "cell_type": "code",
   "execution_count": 13,
   "id": "057813da",
   "metadata": {},
   "outputs": [],
   "source": [
    "batch_size = [1]\n",
    "xdata_size = [4,4,1]\n",
    "xdata      = tf.constant(tf.random.normal(shape = batch_size + xdata_size))"
   ]
  },
  {
   "cell_type": "code",
   "execution_count": 99,
   "id": "5afa3ea1",
   "metadata": {},
   "outputs": [],
   "source": [
    "def moving_avg(x):\n",
    "    my_filter = tf.constant([[[[0.25]],[[0.25]]],[[[0.25]],[[0.25]]]])\n",
    "    my_strides= [1,2,2,1]\n",
    "    layer = tf.nn.conv2d(x, my_filter, my_strides, padding = 'SAME', name = 'moving_avg_layer')\n",
    "    return layer"
   ]
  },
  {
   "cell_type": "code",
   "execution_count": 100,
   "id": "c2433e76",
   "metadata": {},
   "outputs": [],
   "source": [
    "def custom_layer(x):\n",
    "    '''Have to squeeze the matrix from 4dim to 2dim because matmul only works on 2d matrices'''\n",
    "    x = tf.squeeze(x)\n",
    "    A = tf.constant([[1.,2.],[-1.,3.]])\n",
    "    b = tf.constant(1., shape = [2,2])\n",
    "    temp = tf.matmul(A, x)\n",
    "    temp = tf.add(temp,b)\n",
    "    return tf.sigmoid(temp)"
   ]
  },
  {
   "cell_type": "code",
   "execution_count": 101,
   "id": "e74e7d6a",
   "metadata": {},
   "outputs": [],
   "source": [
    "first_layer_tensor  = moving_avg(xdata)\n",
    "second_layer_tensor = custom_layer(first_layer_tensor)"
   ]
  },
  {
   "cell_type": "code",
   "execution_count": 102,
   "id": "828901f1",
   "metadata": {},
   "outputs": [
    {
     "name": "stdout",
     "output_type": "stream",
     "text": [
      "[[0.5580416  0.8863057 ]\n",
      " [0.40439838 0.8856777 ]]\n"
     ]
    }
   ],
   "source": [
    "print(second_layer_tensor.numpy())"
   ]
  },
  {
   "cell_type": "code",
   "execution_count": 103,
   "id": "00d594d2",
   "metadata": {},
   "outputs": [
    {
     "data": {
      "text/plain": [
       "TensorShape([1, 2, 2, 1])"
      ]
     },
     "execution_count": 103,
     "metadata": {},
     "output_type": "execute_result"
    }
   ],
   "source": [
    "my1221 = tf.constant([[[[1],[1]],[[1],[1]]]])\n",
    "my1221.shape"
   ]
  },
  {
   "cell_type": "code",
   "execution_count": 104,
   "id": "27d46002",
   "metadata": {},
   "outputs": [
    {
     "data": {
      "text/plain": [
       "TensorShape([2, 2, 1, 1])"
      ]
     },
     "execution_count": 104,
     "metadata": {},
     "output_type": "execute_result"
    }
   ],
   "source": [
    "my2211 = tf.constant([[[[1]],[[1]]],[[[1]],[[1]]]])\n",
    "my2211.shape"
   ]
  },
  {
   "cell_type": "markdown",
   "id": "993e5382",
   "metadata": {},
   "source": [
    "## Implementing loss functions"
   ]
  },
  {
   "cell_type": "code",
   "execution_count": 106,
   "id": "2a69e6af",
   "metadata": {},
   "outputs": [],
   "source": [
    "import matplotlib.pyplot as plt\n",
    "import tensorflow as tf"
   ]
  },
  {
   "cell_type": "code",
   "execution_count": 110,
   "id": "e9973db5",
   "metadata": {},
   "outputs": [],
   "source": [
    "x = tf.linspace(-1,1,500)\n",
    "y = tf.constant(0.)"
   ]
  },
  {
   "cell_type": "code",
   "execution_count": 112,
   "id": "b0a07dcc",
   "metadata": {},
   "outputs": [],
   "source": [
    "def l2(y_true, y_pred):\n",
    "    return tf.square(y_true - y_pred)"
   ]
  },
  {
   "cell_type": "code",
   "execution_count": 111,
   "id": "e8c67379",
   "metadata": {},
   "outputs": [],
   "source": [
    "def l1(y_true, y_pred):\n",
    "    return tf.abs(y_true - y_pred)"
   ]
  },
  {
   "cell_type": "code",
   "execution_count": 113,
   "id": "cbd4e4f5",
   "metadata": {},
   "outputs": [],
   "source": [
    "def phuber1(ytrue, ypred):\n",
    "    delta1 = tf.constant(0.25)\n",
    "    return tf.multiply(tf.square(delta1),tf.sqrt(1. + tf.square((ytrue-ypred)/delta1)) - 1.)"
   ]
  },
  {
   "cell_type": "code",
   "execution_count": 114,
   "id": "4a956794",
   "metadata": {},
   "outputs": [],
   "source": [
    "def phuber2(ytrue, ypred):\n",
    "    delta2 = tf.constant(5)\n",
    "    return tf.multiply(tf.square(delta2),tf.sqrt(tf.square((ytrue - ypred)/delta2))-1.)"
   ]
  },
  {
   "cell_type": "markdown",
   "id": "d2869d8d",
   "metadata": {},
   "source": [
    "## Categorical Loss Functions"
   ]
  },
  {
   "cell_type": "code",
   "execution_count": 171,
   "id": "ff8e1c3c",
   "metadata": {},
   "outputs": [],
   "source": [
    "x = tf.linspace(-3, 5, 500)\n",
    "y = tf.fill([500,], 1)"
   ]
  },
  {
   "cell_type": "code",
   "execution_count": 165,
   "id": "750ca185",
   "metadata": {},
   "outputs": [
    {
     "data": {
      "text/plain": [
       "array([[False],\n",
       "       [ True],\n",
       "       [ True],\n",
       "       [ True],\n",
       "       [ True],\n",
       "       [False],\n",
       "       [False],\n",
       "       [False],\n",
       "       [ True],\n",
       "       [False]])"
      ]
     },
     "execution_count": 165,
     "metadata": {},
     "output_type": "execute_result"
    }
   ],
   "source": [
    "\n",
    "np.random.choice([True, False], [10,1])"
   ]
  },
  {
   "cell_type": "code",
   "execution_count": null,
   "id": "7fd520b2",
   "metadata": {},
   "outputs": [],
   "source": []
  },
  {
   "cell_type": "code",
   "execution_count": null,
   "id": "5a6745da",
   "metadata": {},
   "outputs": [],
   "source": []
  }
 ],
 "metadata": {
  "kernelspec": {
   "display_name": "Python 3 (ipykernel)",
   "language": "python",
   "name": "python3"
  },
  "language_info": {
   "codemirror_mode": {
    "name": "ipython",
    "version": 3
   },
   "file_extension": ".py",
   "mimetype": "text/x-python",
   "name": "python",
   "nbconvert_exporter": "python",
   "pygments_lexer": "ipython3",
   "version": "3.7.11"
  }
 },
 "nbformat": 4,
 "nbformat_minor": 5
}
