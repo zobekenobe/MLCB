{
 "cells": [
  {
   "cell_type": "code",
   "execution_count": 1,
   "id": "clinical-grocery",
   "metadata": {},
   "outputs": [],
   "source": [
    "import tensorflow as tf\n",
    "import numpy as np"
   ]
  },
  {
   "cell_type": "code",
   "execution_count": 4,
   "id": "clinical-station",
   "metadata": {},
   "outputs": [],
   "source": [
    "xvals = np.array([_ for _ in range(1, 11, 2)])"
   ]
  },
  {
   "cell_type": "code",
   "execution_count": 5,
   "id": "recreational-identifier",
   "metadata": {},
   "outputs": [
    {
     "name": "stdout",
     "output_type": "stream",
     "text": [
      "[ 3.  9. 15. 21. 27.]\n"
     ]
    }
   ],
   "source": [
    "xdata = tf.Variable(xvals, dtype = 'float32')\n",
    "mconst= tf.constant(3.)\n",
    "operation = tf.multiply(xdata, mconst)\n",
    "print(operation.numpy())"
   ]
  },
  {
   "cell_type": "code",
   "execution_count": 6,
   "id": "confident-ukraine",
   "metadata": {},
   "outputs": [],
   "source": [
    "# 2. Layering Operations\n",
    "\n",
    "myArray = np.array([[_ for _ in range(1,11,2)],\n",
    "                    [_ for _ in range(-2, 8, 2)],\n",
    "                    [_ for _ in range(-6, 9, 3)]])"
   ]
  },
  {
   "cell_type": "code",
   "execution_count": 7,
   "id": "technical-citation",
   "metadata": {},
   "outputs": [],
   "source": [
    "xvals   = np.array([myArray, myArray + 1])\n",
    "xdata   = tf.Variable(xvals, dtype = tf.float32)"
   ]
  },
  {
   "cell_type": "code",
   "execution_count": 8,
   "id": "floral-peninsula",
   "metadata": {},
   "outputs": [],
   "source": [
    "m1 = tf.constant([[1.],[0.0],[-1.],[2.],[4.]])\n",
    "m2 = tf.constant([[2.]])\n",
    "a1 = tf.constant([[10.]])\n",
    "\n",
    "def prod1(a,b):\n",
    "    result = tf.matmul(a,b)\n",
    "    return result\n",
    "\n",
    "def prod2(a,b):\n",
    "    return tf.matmul(a,b)\n",
    "\n",
    "def add1(a,b):\n",
    "    return tf.add(a,b)"
   ]
  },
  {
   "cell_type": "code",
   "execution_count": 10,
   "id": "turkish-spain",
   "metadata": {},
   "outputs": [
    {
     "name": "stdout",
     "output_type": "stream",
     "text": [
      "[[[102.]\n",
      "  [ 66.]\n",
      "  [ 58.]]\n",
      "\n",
      " [[114.]\n",
      "  [ 78.]\n",
      "  [ 70.]]]\n"
     ]
    }
   ],
   "source": [
    "result = add1(prod2(prod1(xdata, m1),m2),a1)\n",
    "\n",
    "print(result.numpy())"
   ]
  },
  {
   "cell_type": "code",
   "execution_count": 11,
   "id": "greatest-surprise",
   "metadata": {},
   "outputs": [],
   "source": [
    "# 3. Classing all the operations\n",
    "class Operation():\n",
    "    def __init__(self, result):\n",
    "        self.result = result\n",
    "        \n",
    "    def call1(self, func, a_const):\n",
    "        self.result = func(self.result, a_const)\n",
    "        return self\n",
    "    "
   ]
  },
  {
   "cell_type": "code",
   "execution_count": 12,
   "id": "unauthorized-sitting",
   "metadata": {},
   "outputs": [],
   "source": [
    "operations = Operation(result = xdata).call1(prod1, m1).call1(prod2,m2).call1(add1, a1)"
   ]
  },
  {
   "cell_type": "code",
   "execution_count": 13,
   "id": "black-local",
   "metadata": {},
   "outputs": [
    {
     "name": "stdout",
     "output_type": "stream",
     "text": [
      "[[[102.]\n",
      "  [ 66.]\n",
      "  [ 58.]]\n",
      "\n",
      " [[114.]\n",
      "  [ 78.]\n",
      "  [ 70.]]]\n"
     ]
    }
   ],
   "source": [
    "print(operations.result.numpy())"
   ]
  },
  {
   "cell_type": "code",
   "execution_count": 14,
   "id": "civilian-division",
   "metadata": {},
   "outputs": [],
   "source": [
    "# working with multiple layers\n",
    "import tensorflow as tf\n",
    "import numpy as np\n",
    "\n",
    "batch_size = [1]\n",
    "xshape     = [4,4,1]\n",
    "xdata      = tf.random.normal(shape = batch_size + xshape)"
   ]
  },
  {
   "cell_type": "code",
   "execution_count": 21,
   "id": "cordless-connecticut",
   "metadata": {},
   "outputs": [],
   "source": [
    "# creating the first layer\n",
    "def first_layer(x):\n",
    "    myFilter = tf.constant(0.25, shape = [2,2,1,1])\n",
    "    myStrides= [1,2,2,1]\n",
    "    layer = tf.nn.conv2d(x, myFilter, myStrides,padding = 'SAME', name = 'moving_average_layer')\n",
    "    return layer"
   ]
  },
  {
   "cell_type": "code",
   "execution_count": 22,
   "id": "phantom-survivor",
   "metadata": {},
   "outputs": [],
   "source": [
    "# creating the second layer\n",
    "def second_layer(x):\n",
    "    # squeeze the dimensions of the input image\n",
    "    x_s = tf.squeeze(x)\n",
    "    A = tf.constant([[1.,2.],[-1.,3.]])\n",
    "    b = tf.constant(1., shape = [2,2])\n",
    "    result = tf.matmul(A, x_s)\n",
    "    result = tf.add(result, b)\n",
    "    return tf.sigmoid(result)"
   ]
  },
  {
   "cell_type": "code",
   "execution_count": 23,
   "id": "missing-missile",
   "metadata": {},
   "outputs": [
    {
     "name": "stdout",
     "output_type": "stream",
     "text": [
      "[[0.6436587  0.23613526]\n",
      " [0.6168212  0.39793158]]\n"
     ]
    }
   ],
   "source": [
    "first_layer_tensor = first_layer(xdata)\n",
    "second_layer_tensor= second_layer(first_layer_tensor)\n",
    "\n",
    "print(second_layer_tensor.numpy())"
   ]
  },
  {
   "cell_type": "code",
   "execution_count": 24,
   "id": "sixth-major",
   "metadata": {},
   "outputs": [],
   "source": [
    "# Implementing Loss Functions\n",
    "\n",
    "import matplotlib.pyplot as plt\n",
    "import tensorflow as tf"
   ]
  },
  {
   "cell_type": "code",
   "execution_count": 25,
   "id": "bottom-hartford",
   "metadata": {},
   "outputs": [],
   "source": [
    "xvals = tf.linspace(-1., 1., 500)\n",
    "target= tf.constant(0.)"
   ]
  },
  {
   "cell_type": "code",
   "execution_count": 1,
   "id": "advised-religion",
   "metadata": {},
   "outputs": [],
   "source": [
    "# Regression based loss functions\n",
    "# L2 Loss\n",
    "\n",
    "def l2(y, yp):\n",
    "    return tf.square(y-yp)\n",
    "\n",
    "# L1 loss\n",
    "def l1(y, yp):\n",
    "    return tf.abs(y-yp)\n",
    "\n",
    "# pseudo-huber loss\n",
    "def phuber1(y, yp):\n",
    "    delta1 = tf.constant(0.25)\n",
    "    loss   = tf.multiply(delta1, tf.sqrt(1 + tf.square((y-yp)/delta1)) - 1.)\n",
    "    return loss\n",
    "\n",
    "def phuber2(y, yp):\n",
    "    delta2 = tf.constant(5)\n",
    "    loss   = tf.multiply(delta2, tf.sqrt(1 + tf.square((y-yp)/delta2)) - 1.)"
   ]
  },
  {
   "cell_type": "code",
   "execution_count": null,
   "id": "experienced-rover",
   "metadata": {},
   "outputs": [],
   "source": []
  }
 ],
 "metadata": {
  "kernelspec": {
   "display_name": "Python 3",
   "language": "python",
   "name": "python3"
  },
  "language_info": {
   "codemirror_mode": {
    "name": "ipython",
    "version": 3
   },
   "file_extension": ".py",
   "mimetype": "text/x-python",
   "name": "python",
   "nbconvert_exporter": "python",
   "pygments_lexer": "ipython3",
   "version": "3.8.5"
  }
 },
 "nbformat": 4,
 "nbformat_minor": 5
}
